{
  "nbformat": 4,
  "nbformat_minor": 0,
  "metadata": {
    "colab": {
      "provenance": [],
      "authorship_tag": "ABX9TyNYJW1ULtwT/Gya9B4UOi8y",
      "include_colab_link": true
    },
    "kernelspec": {
      "name": "python3",
      "display_name": "Python 3"
    },
    "language_info": {
      "name": "python"
    }
  },
  "cells": [
    {
      "cell_type": "markdown",
      "metadata": {
        "id": "view-in-github",
        "colab_type": "text"
      },
      "source": [
        "<a href=\"https://colab.research.google.com/github/githubsaniya924/Hypothesis_Testing/blob/main/OneSample_Student_t_test.ipynb\" target=\"_parent\"><img src=\"https://colab.research.google.com/assets/colab-badge.svg\" alt=\"Open In Colab\"/></a>"
      ]
    },
    {
      "cell_type": "code",
      "execution_count": null,
      "metadata": {
        "id": "ehhZs7ic7zYf"
      },
      "outputs": [],
      "source": [
        "import pandas as pd"
      ]
    },
    {
      "cell_type": "code",
      "source": [
        "#Preprocessing\n",
        "data=pd.read_csv('GSS2012a.csv')\n",
        "data\n",
        "\n",
        "scalevar =  data['age'].dropna()\n",
        "\n",
        "scalevar = scalevar.replace({'89 OR OLDER':90})"
      ],
      "metadata": {
        "colab": {
          "base_uri": "https://localhost:8080/"
        },
        "id": "pGHAPhzH8Ium",
        "outputId": "bb4ccf80-6be5-4a97-bd68-101a85a6474f"
      },
      "execution_count": null,
      "outputs": [
        {
          "output_type": "stream",
          "name": "stderr",
          "text": [
            "<ipython-input-16-91ad57208534>:2: DtypeWarning: Columns (11,115,123,187,274,284,287,288,290,291,292,397,585,595,628,632) have mixed types. Specify dtype option on import or set low_memory=False.\n",
            "  data=pd.read_csv('GSS2012a.csv')\n"
          ]
        }
      ]
    },
    {
      "cell_type": "code",
      "source": [
        "#hypothesis testing\n",
        "'''\n",
        "Research Question - The average age og population is 45\n",
        "\n",
        "H0 - the average is not different from 45\n",
        "Ha - the average is different from 45\n",
        "\n",
        "pvalue < 0.05 tham the null value is rejected\n",
        "\n",
        "in order to know how big is the difference we can use effect size\n",
        "'''\n",
        "import scipy\n",
        "from scipy.stats import ttest_1samp\n",
        "\n",
        "scalevar = pd.to_numeric(scalevar)\n",
        "\n",
        "ttest_1samp(scalevar, popmean=45)\n"
      ],
      "metadata": {
        "colab": {
          "base_uri": "https://localhost:8080/"
        },
        "id": "WmYS0G_h9Phq",
        "outputId": "e96e82bb-f910-4e28-ff4e-eabe0738be5a"
      },
      "execution_count": null,
      "outputs": [
        {
          "output_type": "execute_result",
          "data": {
            "text/plain": [
              "TtestResult(statistic=8.022891023250635, pvalue=1.7566438579204372e-15, df=1968)"
            ]
          },
          "metadata": {},
          "execution_count": 20
        }
      ]
    },
    {
      "cell_type": "code",
      "source": [
        "#pvalue < 0.05\n",
        "#we can safely reject the null hypothesis\n",
        "#pvalue is the probability for the null hypothesis being true\n"
      ],
      "metadata": {
        "id": "-WCeg_0U_uG3"
      },
      "execution_count": null,
      "outputs": []
    },
    {
      "cell_type": "code",
      "source": [
        "ttest_1samp(scalevar, popmean=43)"
      ],
      "metadata": {
        "colab": {
          "base_uri": "https://localhost:8080/"
        },
        "id": "iy91ERZ_Avej",
        "outputId": "1fe5f136-5c80-49d9-ce63-f08b65702819"
      },
      "execution_count": null,
      "outputs": [
        {
          "output_type": "execute_result",
          "data": {
            "text/plain": [
              "TtestResult(statistic=13.035447718405479, pvalue=2.574851638823114e-37, df=1968)"
            ]
          },
          "metadata": {},
          "execution_count": 22
        }
      ]
    },
    {
      "cell_type": "code",
      "source": [
        "m = scalevar.mean()\n",
        "\n",
        "sd= scalevar.std()\n",
        "\n",
        "#effect size\n",
        "mean_pop = 80   #assuming the hypothecial mean\n",
        "temp = (m-mean_pop)/sd\n",
        "cohen_d = abs(temp *2**0.5) #abs->absolute value\n",
        "\n",
        "if cohen_d < 0.2:\n",
        "  print('neglibile')\n",
        "elif cohen_d < 0.5:\n",
        "  print('small')\n",
        "elif cohen_d < 0.8:\n",
        "  print('medium')\n",
        "else:\n",
        "  print('large')\n"
      ],
      "metadata": {
        "colab": {
          "base_uri": "https://localhost:8080/"
        },
        "id": "O0CU1A7QCYbA",
        "outputId": "4847a29d-328e-46f7-ab66-3d32ead73b19"
      },
      "execution_count": null,
      "outputs": [
        {
          "output_type": "stream",
          "name": "stdout",
          "text": [
            "large\n"
          ]
        }
      ]
    }
  ]
}