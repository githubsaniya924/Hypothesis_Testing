{
  "nbformat": 4,
  "nbformat_minor": 0,
  "metadata": {
    "colab": {
      "provenance": [],
      "authorship_tag": "ABX9TyOP8yvIv/hP8NQHB1zFVAgH",
      "include_colab_link": true
    },
    "kernelspec": {
      "name": "python3",
      "display_name": "Python 3"
    },
    "language_info": {
      "name": "python"
    }
  },
  "cells": [
    {
      "cell_type": "markdown",
      "metadata": {
        "id": "view-in-github",
        "colab_type": "text"
      },
      "source": [
        "<a href=\"https://colab.research.google.com/github/githubsaniya924/Hypothesis_Testing/blob/main/Assignment.ipynb\" target=\"_parent\"><img src=\"https://colab.research.google.com/assets/colab-badge.svg\" alt=\"Open In Colab\"/></a>"
      ]
    },
    {
      "cell_type": "markdown",
      "source": [
        "# **1. Generate Synthetic Data**"
      ],
      "metadata": {
        "id": "daHis2XzWwNe"
      }
    },
    {
      "cell_type": "markdown",
      "source": [
        "**1.Create a dataset of 100 random integers between 1 and 100**"
      ],
      "metadata": {
        "id": "H00OLmGTX5RT"
      }
    },
    {
      "cell_type": "code",
      "execution_count": null,
      "metadata": {
        "id": "_i2ZCTnoVhZA"
      },
      "outputs": [],
      "source": [
        "import random\n",
        "dataset1 = [random.randint(1,100) for i in range(100)] #uniform data"
      ]
    },
    {
      "cell_type": "code",
      "source": [
        "print(dataset1)"
      ],
      "metadata": {
        "colab": {
          "base_uri": "https://localhost:8080/"
        },
        "id": "kbE_lhBzXxHI",
        "outputId": "576275cf-8515-4486-f3f1-74860da79f74"
      },
      "execution_count": null,
      "outputs": [
        {
          "output_type": "stream",
          "name": "stdout",
          "text": [
            "[68, 24, 48, 63, 25, 52, 13, 40, 56, 17, 12, 8, 83, 87, 61, 3, 10, 90, 82, 90, 5, 97, 23, 83, 38, 82, 36, 12, 98, 18, 12, 61, 17, 26, 22, 94, 36, 40, 94, 34, 35, 84, 38, 68, 87, 69, 57, 44, 33, 94, 94, 89, 5, 19, 65, 36, 88, 93, 90, 1, 96, 48, 67, 88, 3, 88, 54, 10, 77, 84, 48, 74, 39, 37, 64, 74, 6, 4, 3, 62, 22, 6, 12, 75, 2, 39, 43, 40, 22, 11, 20, 96, 93, 86, 9, 34, 50, 57, 82, 6]\n"
          ]
        }
      ]
    },
    {
      "cell_type": "markdown",
      "source": [
        "**2.Create a second dataset of 100 random integers between 1 and 100, with a different distribution.**"
      ],
      "metadata": {
        "id": "Xb5yKuiGYF5U"
      }
    },
    {
      "cell_type": "code",
      "source": [
        "import numpy as np\n",
        "dataset2 = np.random.normal(loc=50, scale=15, size=100)\n",
        "#loc=50 sets the mean (average) of the distribution to 50.\n",
        "#scale=15 sets the standard deviation to 15, which controls the spread of the distribution. A larger standard deviation means values are more spread out from the mean.\n",
        "\n",
        "dataset2 = np.clip(dataset2, 1, 100).astype(int) #defines the spread from 1 to 100\n",
        "\n",
        "print(dataset2)"
      ],
      "metadata": {
        "colab": {
          "base_uri": "https://localhost:8080/"
        },
        "id": "Mx7iueWxYNMM",
        "outputId": "8df1d01b-f35b-44dc-b1a8-9140f87c13a8"
      },
      "execution_count": null,
      "outputs": [
        {
          "output_type": "stream",
          "name": "stdout",
          "text": [
            "[28 28 50 52 44 65 46 46 47 54 77 31 42 53 74 68 12 74 75 35 73 32 57 59\n",
            " 42 70 51 57 56 44 37 59 78 72 62 41 62 81 57 64 53 44 61 52 51 53 61 62\n",
            " 29 40 41 56 61 42 41 35 72 49 42 54 59 55 34 49 61 38 37 65 55 47 58 55\n",
            " 47 47 69 36 40 18 84 45 32 65 49 66 43 57 66 54 48 49 70 33 72 65 51 58\n",
            " 64 40 68 30]\n"
          ]
        }
      ]
    },
    {
      "cell_type": "markdown",
      "source": [
        "# **2.Calculate Descriptive Statistics**"
      ],
      "metadata": {
        "id": "eef4kWGib27E"
      }
    },
    {
      "cell_type": "markdown",
      "source": [
        "**1.Write functions to calculate the mean, median, and mode of a dataset.**"
      ],
      "metadata": {
        "id": "F_HIzP77b_XG"
      }
    },
    {
      "cell_type": "code",
      "source": [
        "import statistics as st\n",
        "# using the in-built methods to derive the mean, median and mode\n",
        "mean1 = np.mean(dataset1)\n",
        "median1 = np.median(dataset1)\n",
        "mode1 = st.mode(dataset1)\n",
        "\n",
        "print(mean1)\n",
        "print(median1)\n",
        "print(mode1)\n",
        "\n",
        "print('--------------------')\n",
        "\n",
        "# using functions to derive the mean,median and mode\n",
        "\n",
        "def find_mean(dataset1):\n",
        "    mean_value = sum(dataset1)/len(dataset1)\n",
        "    return mean_value\n",
        "\n",
        "def find_median(dataset1):\n",
        "  dataset1.sort()\n",
        "\n",
        "  n = len(dataset1)\n",
        "\n",
        "  if n%2 == 0:\n",
        "    median = (dataset1[n//2-1] + dataset1[n//2])/2\n",
        "    return median\n",
        "  else:\n",
        "    median = (dataset1[n/2])\n",
        "    return median\n",
        "\n",
        "def find_mode(dataset1):\n",
        "   max_count = 0\n",
        "   mode=0\n",
        "   for i in range(len(dataset1)):\n",
        "        c = 0\n",
        "        for j in range(len(dataset1)):\n",
        "            if dataset1[i] == dataset1[j]:\n",
        "                c += 1\n",
        "        if c > max_count:\n",
        "            max_count = c\n",
        "            mode = dataset1[i]\n",
        "\n",
        "   return mode\n",
        "\n",
        "print(find_mean(dataset1))\n",
        "print(find_median(dataset1))\n",
        "print(find_mode(dataset1))\n"
      ],
      "metadata": {
        "colab": {
          "base_uri": "https://localhost:8080/"
        },
        "id": "a0ScyEnob-cs",
        "outputId": "1681c979-b6ed-4936-aa45-ea891ad62295"
      },
      "execution_count": null,
      "outputs": [
        {
          "output_type": "stream",
          "name": "stdout",
          "text": [
            "48.8\n",
            "46.0\n",
            "12\n",
            "--------------------\n",
            "48.8\n",
            "46.0\n",
            "12\n"
          ]
        }
      ]
    },
    {
      "cell_type": "markdown",
      "source": [
        "# **3.Hypothesis Testing:**"
      ],
      "metadata": {
        "id": "d5CHipl4mvcr"
      }
    },
    {
      "cell_type": "markdown",
      "source": [
        "Formulate null and alternative hypotheses to test if the mean of the dataset is significantly different from a hypothetical mean.\n"
      ],
      "metadata": {
        "id": "g2NWgfFmnAY4"
      }
    },
    {
      "cell_type": "code",
      "source": [
        "mean = 42 #Hypothetical mean\n",
        "\n",
        "#Research question - Is the mean of the dataset significantly different or not.\n",
        "#H0 - The mean is not different from x.\n",
        "#Ha - The mean is different from x.\n",
        "import scipy\n",
        "from scipy.stats import ttest_1samp\n",
        "\n",
        "ttest_1samp(a=dataset1,popmean=42)"
      ],
      "metadata": {
        "colab": {
          "base_uri": "https://localhost:8080/"
        },
        "id": "Ok51rOh-m1Gw",
        "outputId": "c23bc0cf-33bd-496a-d0e8-362f8b36d45f"
      },
      "execution_count": null,
      "outputs": [
        {
          "output_type": "execute_result",
          "data": {
            "text/plain": [
              "TtestResult(statistic=2.1549903017039878, pvalue=0.033587563068115917, df=99)"
            ]
          },
          "metadata": {},
          "execution_count": 32
        }
      ]
    },
    {
      "cell_type": "code",
      "source": [
        "#pvalue=0.033587563068115917\n",
        "#The pvalue < 0.05 so, we can safely reject the null hypothesis.\n",
        "#Our result is significant\n",
        "#Here we can say that the inference derived from the sample is the inference for the population.\n",
        "\n",
        "#if the pvalue<0.05 then we can measure the effect size."
      ],
      "metadata": {
        "id": "dBM6PItpoDZ0"
      },
      "execution_count": null,
      "outputs": []
    },
    {
      "cell_type": "code",
      "source": [
        "m = np.mean(dataset1)\n",
        "sd = np.std(dataset1)\n",
        "\n",
        "temp = (m-mean)/sd\n",
        "\n",
        "cohen_d = abs(temp*2**0.5)\n",
        "\n",
        "cohen_d"
      ],
      "metadata": {
        "colab": {
          "base_uri": "https://localhost:8080/"
        },
        "id": "SBK692vopwkv",
        "outputId": "c19949e2-375c-4ca2-c625-b8b1d38761cc"
      },
      "execution_count": null,
      "outputs": [
        {
          "output_type": "execute_result",
          "data": {
            "text/plain": [
              "0.3062969840417889"
            ]
          },
          "metadata": {},
          "execution_count": 36
        }
      ]
    },
    {
      "cell_type": "code",
      "source": [
        "if cohen_d < 0.2:\n",
        "  print('Negligible')\n",
        "elif cohen_d < 0.5:\n",
        "  print('small')\n",
        "elif cohen_d <0.8:\n",
        "  print('medium')\n",
        "else:\n",
        "  print('large')"
      ],
      "metadata": {
        "colab": {
          "base_uri": "https://localhost:8080/"
        },
        "id": "o-OJR4o9q3YB",
        "outputId": "8c180ed8-4fb1-4400-bbab-99f28fbdf338"
      },
      "execution_count": null,
      "outputs": [
        {
          "output_type": "stream",
          "name": "stdout",
          "text": [
            "small\n"
          ]
        }
      ]
    },
    {
      "cell_type": "markdown",
      "source": [
        "# **4.Binomial Test:**"
      ],
      "metadata": {
        "id": "5z6OadiTssPG"
      }
    },
    {
      "cell_type": "code",
      "source": [
        "#Perform a binomial test to check if the proportion of even numbers in the first dataset is significantly different from 0.5.\n",
        "even_data=[]\n",
        "for i in range(0,len(dataset1)):\n",
        "  if dataset1[i]%2 == 0:\n",
        "    even_data.append(dataset1[i])\n",
        "  else:\n",
        "      continue\n",
        "\n",
        "print(len(even_data))\n",
        "\n",
        "import scipy\n",
        "from scipy.stats import binomtest\n",
        "\n",
        "binomtest(k=62,n=100,p=0.5)"
      ],
      "metadata": {
        "colab": {
          "base_uri": "https://localhost:8080/"
        },
        "id": "vIq6y7jHszJx",
        "outputId": "efcf47ee-b1e7-45f6-a823-628ca64b5460"
      },
      "execution_count": null,
      "outputs": [
        {
          "output_type": "stream",
          "name": "stdout",
          "text": [
            "62\n"
          ]
        },
        {
          "output_type": "execute_result",
          "data": {
            "text/plain": [
              "BinomTestResult(k=62, n=100, alternative='two-sided', statistic=0.62, pvalue=0.02097873567785172)"
            ]
          },
          "metadata": {},
          "execution_count": 43
        }
      ]
    },
    {
      "cell_type": "code",
      "source": [
        "#pvalue=0.02097873567785172\n",
        "\n",
        "#pvalue<0.05\n",
        "#Therefore we can safely reject the null hypothesis\n",
        "#Our result is significant"
      ],
      "metadata": {
        "id": "NzrtmQdUuwlE"
      },
      "execution_count": null,
      "outputs": []
    },
    {
      "cell_type": "markdown",
      "source": [
        "# **5.T-Test**"
      ],
      "metadata": {
        "id": "9JarUVpG1N93"
      }
    },
    {
      "cell_type": "code",
      "source": [
        "#Perform a t-test to compare the mean of the first dataset is significantly different from hypothetical mean.\n",
        "#Print the t-statistic and p-value, and interpret the result.\n",
        "\n",
        "from scipy.stats import ttest_1samp\n",
        "ttest_1samp(a=dataset1,popmean=66)"
      ],
      "metadata": {
        "colab": {
          "base_uri": "https://localhost:8080/"
        },
        "id": "Z74eGaPy1uKs",
        "outputId": "29169fc6-9e46-4d31-f224-97e0ab424618"
      },
      "execution_count": null,
      "outputs": [
        {
          "output_type": "execute_result",
          "data": {
            "text/plain": [
              "TtestResult(statistic=-5.4508578219571495, pvalue=3.680213428997682e-07, df=99)"
            ]
          },
          "metadata": {},
          "execution_count": 45
        }
      ]
    },
    {
      "cell_type": "code",
      "source": [
        "# pvalue=3.680213428997682e-07\n",
        "# pvalue < 0.05, So we can safely reject the null hypothesis\n",
        "# Our result is significant"
      ],
      "metadata": {
        "id": "wQev0jva2O7a"
      },
      "execution_count": null,
      "outputs": []
    },
    {
      "cell_type": "markdown",
      "source": [
        "# **6.Wilcoxon Test**"
      ],
      "metadata": {
        "id": "HbTOZjzX2jEo"
      }
    },
    {
      "cell_type": "code",
      "source": [
        "# Perform a Wilcoxon rank-sum test to compare the median of the first dataset is different from hypothetical median.\n",
        "# Print the test statistic and p-value, and interpret the result.\n",
        "# Research question- the median value of data is equal to X ?\n",
        "\n",
        "# H0 - The median value is not different from x(hypotheical median)\n",
        "# Ha - The median value is different from x(hypotheical median)\n",
        "import pandas as pd\n",
        "data = pd.read_csv('GSS2012a.csv')"
      ],
      "metadata": {
        "colab": {
          "base_uri": "https://localhost:8080/"
        },
        "id": "YsEz8YMg2puw",
        "outputId": "8e456bf1-f980-4b90-ec8a-2eb7801cd74a"
      },
      "execution_count": null,
      "outputs": [
        {
          "output_type": "stream",
          "name": "stderr",
          "text": [
            "<ipython-input-52-bb465ff79abc>:8: DtypeWarning: Columns (11,115,123,187,274,284,287,288,290,291,292,397,585,595,628,632) have mixed types. Specify dtype option on import or set low_memory=False.\n",
            "  data = pd.read_csv('GSS2012a.csv')\n"
          ]
        }
      ]
    },
    {
      "cell_type": "code",
      "source": [
        "ordinal_data = data['accntsci']\n",
        "ordinal_data.value_counts()"
      ],
      "metadata": {
        "colab": {
          "base_uri": "https://localhost:8080/",
          "height": 241
        },
        "id": "ZOipZhv65p5U",
        "outputId": "93166141-25cb-437a-dead-5b68f9092764"
      },
      "execution_count": null,
      "outputs": [
        {
          "output_type": "execute_result",
          "data": {
            "text/plain": [
              "accntsci\n",
              "Not too scientific       348\n",
              "Not scientific at all    307\n",
              "Pretty scientific        199\n",
              "Very scientific          100\n",
              "Name: count, dtype: int64"
            ],
            "text/html": [
              "<div>\n",
              "<style scoped>\n",
              "    .dataframe tbody tr th:only-of-type {\n",
              "        vertical-align: middle;\n",
              "    }\n",
              "\n",
              "    .dataframe tbody tr th {\n",
              "        vertical-align: top;\n",
              "    }\n",
              "\n",
              "    .dataframe thead th {\n",
              "        text-align: right;\n",
              "    }\n",
              "</style>\n",
              "<table border=\"1\" class=\"dataframe\">\n",
              "  <thead>\n",
              "    <tr style=\"text-align: right;\">\n",
              "      <th></th>\n",
              "      <th>count</th>\n",
              "    </tr>\n",
              "    <tr>\n",
              "      <th>accntsci</th>\n",
              "      <th></th>\n",
              "    </tr>\n",
              "  </thead>\n",
              "  <tbody>\n",
              "    <tr>\n",
              "      <th>Not too scientific</th>\n",
              "      <td>348</td>\n",
              "    </tr>\n",
              "    <tr>\n",
              "      <th>Not scientific at all</th>\n",
              "      <td>307</td>\n",
              "    </tr>\n",
              "    <tr>\n",
              "      <th>Pretty scientific</th>\n",
              "      <td>199</td>\n",
              "    </tr>\n",
              "    <tr>\n",
              "      <th>Very scientific</th>\n",
              "      <td>100</td>\n",
              "    </tr>\n",
              "  </tbody>\n",
              "</table>\n",
              "</div><br><label><b>dtype:</b> int64</label>"
            ]
          },
          "metadata": {},
          "execution_count": 53
        }
      ]
    },
    {
      "cell_type": "code",
      "source": [
        "#replace these four words into code\n",
        "ordinal_data.value_counts().index"
      ],
      "metadata": {
        "colab": {
          "base_uri": "https://localhost:8080/"
        },
        "id": "J2Q-TsPp5yT4",
        "outputId": "173294de-86c9-4dc2-c9c7-2981710c1652"
      },
      "execution_count": null,
      "outputs": [
        {
          "output_type": "execute_result",
          "data": {
            "text/plain": [
              "Index(['Not too scientific', 'Not scientific at all', 'Pretty scientific',\n",
              "       'Very scientific'],\n",
              "      dtype='object', name='accntsci')"
            ]
          },
          "metadata": {},
          "execution_count": 54
        }
      ]
    },
    {
      "cell_type": "code",
      "source": [
        "ordinal_data = ordinal_data.replace({'Not too scientific':1,\n",
        "                                     'Not scientific at all':0,\n",
        "                                     'Pretty scientific':2,\n",
        "                                     'Very scientific':3})"
      ],
      "metadata": {
        "colab": {
          "base_uri": "https://localhost:8080/"
        },
        "id": "uJINlFev53tp",
        "outputId": "ab598a2e-7430-45d7-fa5b-eded55ac8034"
      },
      "execution_count": null,
      "outputs": [
        {
          "output_type": "stream",
          "name": "stderr",
          "text": [
            "<ipython-input-55-155d3af154de>:1: FutureWarning: Downcasting behavior in `replace` is deprecated and will be removed in a future version. To retain the old behavior, explicitly call `result.infer_objects(copy=False)`. To opt-in to the future behavior, set `pd.set_option('future.no_silent_downcasting', True)`\n",
            "  ordinal_data = ordinal_data.replace({'Not too scientific':1,\n"
          ]
        }
      ]
    },
    {
      "cell_type": "code",
      "source": [
        "from scipy.stats import wilcoxon\n",
        "\n",
        "x=2.5 #ypothetical mean\n",
        "\n",
        "ordinal_data =ordinal_data.dropna()\n",
        "\n",
        "wilcoxon(ordinal_data-5.0,zero_method='wilcox')"
      ],
      "metadata": {
        "colab": {
          "base_uri": "https://localhost:8080/"
        },
        "id": "hc3myewd59hX",
        "outputId": "72f21260-4299-48ca-96b7-3a513b55d8d5"
      },
      "execution_count": null,
      "outputs": [
        {
          "output_type": "execute_result",
          "data": {
            "text/plain": [
              "WilcoxonResult(statistic=0.0, pvalue=2.297689656896499e-161)"
            ]
          },
          "metadata": {},
          "execution_count": 57
        }
      ]
    },
    {
      "cell_type": "code",
      "source": [
        "# pvalue<0.05\n",
        "#pvalue=2.297689656896499e-161  is very very less than 0.05\n",
        "#this means that the null hypothesis can be safely rejected and the alternate hypothesis is likely true\n",
        "#From the sample we are inferning the population\n",
        "#Because the pvalue is less than 0.05 we can say that even the population id following the inference i.e the median value is different from x."
      ],
      "metadata": {
        "id": "T2enyosB5_dD"
      },
      "execution_count": null,
      "outputs": []
    },
    {
      "cell_type": "markdown",
      "source": [
        "# **7.Pearson Goodness of Fit Test:**"
      ],
      "metadata": {
        "id": "fmYYobc96c_7"
      }
    },
    {
      "cell_type": "code",
      "source": [
        "#Perform a Pearson goodness of fit test to check if the distribution of numbers in the first dataset fits a uniform distribution.\n",
        "#Print the test statistic and p-value, and interpret the result."
      ],
      "metadata": {
        "id": "y1mYR0zn6mMs"
      },
      "execution_count": null,
      "outputs": []
    },
    {
      "cell_type": "code",
      "source": [
        "student_data = pd.read_csv('StudentStatistics.csv',sep=';')\n"
      ],
      "metadata": {
        "id": "nwM9lgo17BeA"
      },
      "execution_count": null,
      "outputs": []
    },
    {
      "cell_type": "code",
      "source": [
        "student_data['Location'].value_counts()"
      ],
      "metadata": {
        "colab": {
          "base_uri": "https://localhost:8080/",
          "height": 209
        },
        "id": "DOOOEMPA8TFA",
        "outputId": "18dd9c75-0a39-4b66-8565-01bf5913c2d8"
      },
      "execution_count": null,
      "outputs": [
        {
          "output_type": "execute_result",
          "data": {
            "text/plain": [
              "Location\n",
              "Haarlem      22\n",
              "Diemen       17\n",
              "Rotterdam    16\n",
              "Name: count, dtype: int64"
            ],
            "text/html": [
              "<div>\n",
              "<style scoped>\n",
              "    .dataframe tbody tr th:only-of-type {\n",
              "        vertical-align: middle;\n",
              "    }\n",
              "\n",
              "    .dataframe tbody tr th {\n",
              "        vertical-align: top;\n",
              "    }\n",
              "\n",
              "    .dataframe thead th {\n",
              "        text-align: right;\n",
              "    }\n",
              "</style>\n",
              "<table border=\"1\" class=\"dataframe\">\n",
              "  <thead>\n",
              "    <tr style=\"text-align: right;\">\n",
              "      <th></th>\n",
              "      <th>count</th>\n",
              "    </tr>\n",
              "    <tr>\n",
              "      <th>Location</th>\n",
              "      <th></th>\n",
              "    </tr>\n",
              "  </thead>\n",
              "  <tbody>\n",
              "    <tr>\n",
              "      <th>Haarlem</th>\n",
              "      <td>22</td>\n",
              "    </tr>\n",
              "    <tr>\n",
              "      <th>Diemen</th>\n",
              "      <td>17</td>\n",
              "    </tr>\n",
              "    <tr>\n",
              "      <th>Rotterdam</th>\n",
              "      <td>16</td>\n",
              "    </tr>\n",
              "  </tbody>\n",
              "</table>\n",
              "</div><br><label><b>dtype:</b> int64</label>"
            ]
          },
          "metadata": {},
          "execution_count": 63
        }
      ]
    },
    {
      "cell_type": "code",
      "source": [
        "from scipy.stats import chisquare\n",
        "chisquare(student_data['Location'].value_counts())"
      ],
      "metadata": {
        "colab": {
          "base_uri": "https://localhost:8080/"
        },
        "id": "E9V_qSfp8ihE",
        "outputId": "5a779ec5-e77b-4d26-e549-1f30c6e3334c"
      },
      "execution_count": null,
      "outputs": [
        {
          "output_type": "execute_result",
          "data": {
            "text/plain": [
              "Power_divergenceResult(statistic=1.1272727272727274, pvalue=0.5691357119956006)"
            ]
          },
          "metadata": {},
          "execution_count": 64
        }
      ]
    },
    {
      "cell_type": "code",
      "source": [
        "#pvalue=0.5691357119956006\n",
        "#here the pvalue > 0.05\n",
        "#therefore we cannot reject the null hypothesis"
      ],
      "metadata": {
        "id": "DbYlW0pA8oH1"
      },
      "execution_count": null,
      "outputs": []
    },
    {
      "cell_type": "markdown",
      "source": [
        "# **8.Error Types:**"
      ],
      "metadata": {
        "id": "Rr7I3OK99PBW"
      }
    },
    {
      "cell_type": "code",
      "source": [
        "#Explain and provide an example of Type-1 and Type-2 errors in the context of the t-test performed.\n",
        "\n",
        "'''\n",
        "Type-1 Error: This error occurs when we reject the true null hypothesis.\n",
        "This happens when you think there is a difference or effect, but there actually isn’t.\n",
        "Here, we reject the null hypothesis test.\n",
        "\n",
        "Using the ttest in type-1 error:\n",
        "Example- The new study strtergy has lead to increse in scores of the students than the previous scores. Here, there is\n",
        "differnce in the scores\n",
        "\n",
        "H0 - no difference in the score.\n",
        "Ha - difference in the score.\n",
        "\n",
        "\n",
        "Type-2 Error: This error occurs when we accept the false null hypothesis.\n",
        "Here, we conclude that there is no statistically significant difference when there actually is one.\n",
        "This means that we don't reject the null hypothesis.\n",
        "Here, we say there is no difference.\n",
        "\n",
        "Using the ttest in type-1 error:\n",
        "Example- Using the same study method test, if the new method really helps students score better but your test\n",
        "fails to show it, you’ve made a Type-2 error.\n",
        "\n",
        "\n",
        "'''"
      ],
      "metadata": {
        "id": "6Dt3UQUC9YoY"
      },
      "execution_count": null,
      "outputs": []
    }
  ]
}